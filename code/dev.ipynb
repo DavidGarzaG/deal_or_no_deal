{
 "cells": [
  {
   "cell_type": "code",
   "execution_count": 16,
   "metadata": {},
   "outputs": [],
   "source": [
    "import math\n",
    "import sys\n",
    "from image_positions import pos_dict, order_2_400\n",
    "from PIL import Image, ImageFilter\n",
    "import glob\n",
    "\n",
    "import numpy as np\n",
    "from numpy import random\n",
    "from tqdm import tqdm"
   ]
  },
  {
   "cell_type": "markdown",
   "metadata": {},
   "source": [
    "# First step\n",
    "- Create a blank* image without number and croped images for all the numbers from the briefcases.\n",
    "- Create a script to create a bunch of training samples to know where the biggest number is. (Should we find all the numbers?)\n",
    "    - How do we write to an image?\n",
    "- Store the images inside a folder, remember the order when created and the desired output of the model."
   ]
  },
  {
   "cell_type": "markdown",
   "metadata": {},
   "source": [
    "## Obtaining the numbers from the briefcases\n",
    "\n",
    "As a convention, these are place number for each briefcase \n",
    "\n",
    "$$\n",
    "\\begin{pmatrix}\n",
    "  0 & 1 & 2 & 3\\\\\n",
    "  4 & 5 & 6 & 7\\\\\n",
    "  8 & 9 & 10 & 11\\\\\n",
    "  12 & 13 & 14 & 15\n",
    "\\end{pmatrix}\n",
    "$$"
   ]
  },
  {
   "cell_type": "markdown",
   "metadata": {},
   "source": [
    "Creating the sample images for the training:"
   ]
  },
  {
   "cell_type": "code",
   "execution_count": null,
   "metadata": {},
   "outputs": [],
   "source": [
    "# Getting the cropped briefcase images\n",
    "image_path = \"../original_photos/clean_with_numbers_2-400.jpg\"\n",
    "image = Image.open(image_path).convert(\"RGB\")\n",
    "\n",
    "briefcase_list = [image.crop(pos_dict[x]) for x in range(16)]\n",
    "\n",
    "current_combination = [0,1,2,3,4,5,6,7,8,9,10,11,12,13,14,15]\n",
    "\n",
    "number_of_combinations = 1000\n",
    "combinations_to_save = [random.permutation([y for y in range(16)]) for x in range(number_of_combinations)]\n",
    "\n",
    "for current_combination in tqdm(combinations_to_save):\n",
    "\n",
    "    for briefcase in range(16):\n",
    "        image.paste(briefcase_list[current_combination[briefcase]], pos_dict[briefcase])\n",
    "\n",
    "    file_name = \"_\".join([str(x) for x in current_combination])\n",
    "\n",
    "    image.save(f\"../training_data/2_400/{file_name}.png\")"
   ]
  },
  {
   "cell_type": "markdown",
   "metadata": {},
   "source": [
    "# Second step\n",
    "- Train a model to know the position of the briefcases"
   ]
  },
  {
   "cell_type": "markdown",
   "metadata": {},
   "source": [
    "## Training a model"
   ]
  },
  {
   "cell_type": "code",
   "execution_count": 2,
   "metadata": {},
   "outputs": [
    {
     "name": "stderr",
     "output_type": "stream",
     "text": [
      "2024-11-13 08:28:11.017131: I tensorflow/core/platform/cpu_feature_guard.cc:210] This TensorFlow binary is optimized to use available CPU instructions in performance-critical operations.\n",
      "To enable the following instructions: SSE4.1 SSE4.2, in other operations, rebuild TensorFlow with the appropriate compiler flags.\n"
     ]
    }
   ],
   "source": [
    "import tensorflow as tf\n",
    "from sklearn.model_selection import train_test_split"
   ]
  },
  {
   "cell_type": "code",
   "execution_count": 23,
   "metadata": {},
   "outputs": [],
   "source": [
    "# Lets get the list of files from training_data/2_400\n",
    "dir_list = glob.glob(\"../training_data/2_400/*\")\n",
    "output_for_model = [list(map(int,training_dir[23:-4].split(\"_\"))).index(2) for training_dir in dir_list] # .index(2) is to find where the 400 is"
   ]
  },
  {
   "cell_type": "code",
   "execution_count": 53,
   "metadata": {},
   "outputs": [
    {
     "name": "stderr",
     "output_type": "stream",
     "text": [
      "  0%|          | 0/1000 [00:00<?, ?it/s]0.00s - Debugger warning: It seems that frozen modules are being used, which may\n",
      "0.00s - make the debugger miss breakpoints. Please pass -Xfrozen_modules=off\n",
      "0.00s - to python to disable frozen modules.\n",
      "0.00s - Note: Debugging will proceed. Set PYDEVD_DISABLE_FILE_VALIDATION=1 to disable this validation.\n",
      "100%|██████████| 1000/1000 [00:55<00:00, 17.98it/s]\n"
     ]
    }
   ],
   "source": [
    "image_list = list()\n",
    "for curr_image_dir in tqdm(dir_list):\n",
    "    \n",
    "    # Quick testing showed better results converting to black and white after filtering\n",
    "    image = Image.open(dir_list[0])\n",
    "\n",
    "    # image = image.convert('1')\n",
    "\n",
    "    filtered = image.filter(ImageFilter.Kernel(\n",
    "        size=(3, 3),\n",
    "        kernel=[-1, -1, -1, -1, 8, -1, -1, -1, -1],\n",
    "        scale=1\n",
    "    ))\n",
    "\n",
    "    filtered = filtered.convert('1')\n",
    "    image_list.append(np.asarray(filtered))"
   ]
  },
  {
   "cell_type": "code",
   "execution_count": 78,
   "metadata": {},
   "outputs": [],
   "source": [
    "X_train, X_test, y_train, y_test = train_test_split(image_list, output_for_model, test_size=0.2)"
   ]
  },
  {
   "cell_type": "code",
   "execution_count": 79,
   "metadata": {},
   "outputs": [],
   "source": [
    "X_train = np.asarray(X_train)\n",
    "X_test = np.asarray(X_test)\n",
    "y_train = tf.keras.utils.to_categorical(y_train)\n",
    "y_test = tf.keras.utils.to_categorical(y_test)\n",
    "X_train = X_train.reshape(\n",
    "    X_train.shape[0], X_train.shape[1], X_train.shape[2], 1\n",
    ")\n",
    "X_test = X_test.reshape(\n",
    "    X_test.shape[0], X_test.shape[1], X_test.shape[2], 1\n",
    ")"
   ]
  },
  {
   "cell_type": "code",
   "execution_count": 82,
   "metadata": {},
   "outputs": [
    {
     "name": "stdout",
     "output_type": "stream",
     "text": [
      "Epoch 1/10\n"
     ]
    },
    {
     "ename": "",
     "evalue": "",
     "output_type": "error",
     "traceback": [
      "\u001b[1;31mThe Kernel crashed while executing code in the current cell or a previous cell. \n",
      "\u001b[1;31mPlease review the code in the cell(s) to identify a possible cause of the failure. \n",
      "\u001b[1;31mClick <a href='https://aka.ms/vscodeJupyterKernelCrash'>here</a> for more info. \n",
      "\u001b[1;31mView Jupyter <a href='command:jupyter.viewOutput'>log</a> for further details."
     ]
    }
   ],
   "source": [
    "# Create a convolutional neural network\n",
    "model = tf.keras.models.Sequential([\n",
    "\n",
    "    # Convolutional layer. Learn 32 filters using a 3x3 kernel\n",
    "    tf.keras.layers.Conv2D(\n",
    "        32, (3, 3), activation=\"relu\", input_shape=(720, 1280, 1)\n",
    "    ),\n",
    "\n",
    "    # Max-pooling layer, using 2x2 pool size\n",
    "    tf.keras.layers.MaxPooling2D(pool_size=(3, 3)),\n",
    "\n",
    "    # Flatten units\n",
    "    tf.keras.layers.Flatten(),\n",
    "\n",
    "    # Add a hidden layer with dropout\n",
    "    tf.keras.layers.Dense(128, activation=\"relu\"),\n",
    "    tf.keras.layers.Dropout(0.5),\n",
    "\n",
    "    # Add an output layer with output units for all 10 digits\n",
    "    tf.keras.layers.Dense(16, activation=\"softmax\")\n",
    "])\n",
    "\n",
    "# Train neural network\n",
    "model.compile(\n",
    "    optimizer=\"adam\",\n",
    "    loss=\"categorical_crossentropy\",\n",
    "    metrics=[\"accuracy\"]\n",
    ")\n",
    "model.fit(X_train, y_train, epochs=10)\n",
    "\n",
    "# Evaluate neural network performance\n",
    "model.evaluate(X_test,  y_test, verbose=2)"
   ]
  },
  {
   "cell_type": "code",
   "execution_count": null,
   "metadata": {},
   "outputs": [],
   "source": []
  }
 ],
 "metadata": {
  "kernelspec": {
   "display_name": "tf-enf",
   "language": "python",
   "name": "python3"
  },
  "language_info": {
   "codemirror_mode": {
    "name": "ipython",
    "version": 3
   },
   "file_extension": ".py",
   "mimetype": "text/x-python",
   "name": "python",
   "nbconvert_exporter": "python",
   "pygments_lexer": "ipython3",
   "version": "3.12.7"
  }
 },
 "nbformat": 4,
 "nbformat_minor": 2
}
